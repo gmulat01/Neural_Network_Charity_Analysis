{
 "cells": [
  {
   "cell_type": "code",
   "execution_count": 1,
   "id": "712232c7",
   "metadata": {},
   "outputs": [],
   "source": [
    "# Import our dependencies\n",
    "import pandas as pd\n",
    "import matplotlib as plt\n",
    "from sklearn.datasets import make_blobs\n",
    "import sklearn as skl\n",
    "import tensorflow as tf"
   ]
  },
  {
   "cell_type": "code",
   "execution_count": 2,
   "id": "77474a63",
   "metadata": {},
   "outputs": [
    {
     "data": {
      "text/plain": [
       "<AxesSubplot:xlabel='Feature 1', ylabel='Feature 2'>"
      ]
     },
     "execution_count": 2,
     "metadata": {},
     "output_type": "execute_result"
    },
    {
     "data": {
      "image/png": "[encoded data removed]",
      "text/plain": [
       "<Figure size 432x288 with 2 Axes>"
      ]
     },
     "metadata": {
      "needs_background": "light"
     },
     "output_type": "display_data"
    }
   ],
   "source": [
    "# Generate dummy dataset\n",
    "X, y = make_blobs(n_samples=1000, centers=2, n_features=2, random_state=78)\n",
    "\n",
    "# Creating a DataFrame with the dummy data\n",
    "df = pd.DataFrame(X, columns=[\"Feature 1\", \"Feature 2\"])\n",
    "df[\"Target\"] = y\n",
    "\n",
    "# Plotting the dummy data\n",
    "df.plot.scatter(x=\"Feature 1\", y=\"Feature 2\", c=\"Target\", colormap=\"winter\")"
   ]
  },
  {
   "cell_type": "code",
   "execution_count": 5,
   "id": "59611ab6",
   "metadata": {},
   "outputs": [],
   "source": [
    "# Use sklearn to split dataset\n",
    "from sklearn.model_selection import train_test_split\n",
    "X_train, X_test, y_train, y_test = train_test_split(X, y, random_state=78)"
   ]
  },
  {
   "cell_type": "code",
   "execution_count": 6,
   "id": "27009ced",
   "metadata": {},
   "outputs": [],
   "source": [
    "# Create scaler instance\n",
    "X_scaler = skl.preprocessing.StandardScaler()\n",
    "\n",
    "# Fit the scaler\n",
    "X_scaler.fit(X_train)\n",
    "\n",
    "# Scale the data\n",
    "X_train_scaled = X_scaler.transform(X_train)\n",
    "X_test_scaled = X_scaler.transform(X_test)"
   ]
  },
  {
   "cell_type": "code",
   "execution_count": 8,
   "id": "8f61e50e",
   "metadata": {},
   "outputs": [],
   "source": [
    "# Create the Keras Sequential model\n",
    "nn_model = tf.keras.models.Sequential()"
   ]
  },
  {
   "cell_type": "code",
   "execution_count": 9,
   "id": "8a1d6187",
   "metadata": {},
   "outputs": [
    {
     "name": "stderr",
     "output_type": "stream",
     "text": [
      "2022-09-01 13:08:41.407710: I tensorflow/core/platform/cpu_feature_guard.cc:145] This TensorFlow binary is optimized with Intel(R) MKL-DNN to use the following CPU instructions in performance critical operations:  SSE4.1 SSE4.2\n",
      "To enable them in non-MKL-DNN operations, rebuild TensorFlow with the appropriate compiler flags.\n",
      "2022-09-01 13:08:41.410172: I tensorflow/core/common_runtime/process_util.cc:115] Creating new thread pool with default inter op setting: 8. Tune using inter_op_parallelism_threads for best performance.\n"
     ]
    }
   ],
   "source": [
    "# Add our first Dense layer, including the input layer\n",
    "nn_model.add(tf.keras.layers.Dense(units=1, activation=\"relu\", input_dim=2))"
   ]
  },
  {
   "cell_type": "code",
   "execution_count": 10,
   "id": "812d2b65",
   "metadata": {},
   "outputs": [],
   "source": [
    "# Add the output layer that uses a probability activation function\n",
    "nn_model.add(tf.keras.layers.Dense(units=1, activation=\"sigmoid\"))"
   ]
  },
  {
   "cell_type": "code",
   "execution_count": 11,
   "id": "d80c2e53",
   "metadata": {},
   "outputs": [
    {
     "name": "stdout",
     "output_type": "stream",
     "text": [
      "Model: \"sequential_1\"\n",
      "_________________________________________________________________\n",
      "Layer (type)                 Output Shape              Param #   \n",
      "=================================================================\n",
      "dense (Dense)                (None, 1)                 3         \n",
      "_________________________________________________________________\n",
      "dense_1 (Dense)              (None, 1)                 2         \n",
      "=================================================================\n",
      "Total params: 5\n",
      "Trainable params: 5\n",
      "Non-trainable params: 0\n",
      "_________________________________________________________________\n"
     ]
    }
   ],
   "source": [
    "# Check the structure of the Sequential model\n",
    "nn_model.summary()"
   ]
  },
  {
   "cell_type": "code",
   "execution_count": 12,
   "id": "9a8a2d6b",
   "metadata": {},
   "outputs": [],
   "source": [
    "# Compile the Sequential model together and customize metrics\n",
    "nn_model.compile(loss=\"binary_crossentropy\", optimizer=\"adam\", metrics=[\"accuracy\"])"
   ]
  },
  {
   "cell_type": "code",
   "execution_count": 13,
   "id": "1f5f8cbe",
   "metadata": {},
   "outputs": [
    {
     "name": "stdout",
     "output_type": "stream",
     "text": [
      "Train on 750 samples\n",
      "Epoch 1/100\n",
      "750/750 [==============================] - 1s 783us/sample - loss: 1.2720 - accuracy: 0.0227\n",
      "Epoch 2/100\n",
      "750/750 [==============================] - 0s 34us/sample - loss: 1.2275 - accuracy: 0.0040\n",
      "Epoch 3/100\n",
      "750/750 [==============================] - 0s 35us/sample - loss: 1.1866 - accuracy: 0.0040\n",
      "Epoch 4/100\n",
      "750/750 [==============================] - 0s 33us/sample - loss: 1.1485 - accuracy: 0.0040\n",
      "Epoch 5/100\n",
      "750/750 [==============================] - 0s 33us/sample - loss: 1.1131 - accuracy: 0.0040\n",
      "Epoch 6/100\n",
      "750/750 [==============================] - 0s 34us/sample - loss: 1.0808 - accuracy: 0.0040\n",
      "Epoch 7/100\n",
      "750/750 [==============================] - 0s 32us/sample - loss: 1.0514 - accuracy: 0.0053\n",
      "Epoch 8/100\n",
      "750/750 [==============================] - 0s 34us/sample - loss: 1.0240 - accuracy: 0.0053\n",
      "Epoch 9/100\n",
      "750/750 [==============================] - 0s 34us/sample - loss: 0.9986 - accuracy: 0.0053\n",
      "Epoch 10/100\n",
      "750/750 [==============================] - 0s 34us/sample - loss: 0.9755 - accuracy: 0.0080\n",
      "Epoch 11/100\n",
      "750/750 [==============================] - 0s 32us/sample - loss: 0.9541 - accuracy: 0.0107\n",
      "Epoch 12/100\n",
      "750/750 [==============================] - 0s 34us/sample - loss: 0.9349 - accuracy: 0.0147\n",
      "Epoch 13/100\n",
      "750/750 [==============================] - 0s 32us/sample - loss: 0.9168 - accuracy: 0.0173\n",
      "Epoch 14/100\n",
      "750/750 [==============================] - 0s 33us/sample - loss: 0.9005 - accuracy: 0.0227\n",
      "Epoch 15/100\n",
      "750/750 [==============================] - 0s 33us/sample - loss: 0.8852 - accuracy: 0.0267\n",
      "Epoch 16/100\n",
      "750/750 [==============================] - 0s 32us/sample - loss: 0.8712 - accuracy: 0.0293\n",
      "Epoch 17/100\n",
      "750/750 [==============================] - 0s 32us/sample - loss: 0.8584 - accuracy: 0.0360\n",
      "Epoch 18/100\n",
      "750/750 [==============================] - 0s 34us/sample - loss: 0.8464 - accuracy: 0.0413\n",
      "Epoch 19/100\n",
      "750/750 [==============================] - 0s 34us/sample - loss: 0.8352 - accuracy: 0.0480\n",
      "Epoch 20/100\n",
      "750/750 [==============================] - 0s 34us/sample - loss: 0.8251 - accuracy: 0.0587\n",
      "Epoch 21/100\n",
      "750/750 [==============================] - 0s 32us/sample - loss: 0.8154 - accuracy: 0.0667\n",
      "Epoch 22/100\n",
      "750/750 [==============================] - 0s 34us/sample - loss: 0.8067 - accuracy: 0.0787\n",
      "Epoch 23/100\n",
      "750/750 [==============================] - 0s 35us/sample - loss: 0.7984 - accuracy: 0.0827\n",
      "Epoch 24/100\n",
      "750/750 [==============================] - 0s 34us/sample - loss: 0.7909 - accuracy: 0.0933\n",
      "Epoch 25/100\n",
      "750/750 [==============================] - 0s 34us/sample - loss: 0.7837 - accuracy: 0.1093\n",
      "Epoch 26/100\n",
      "750/750 [==============================] - 0s 33us/sample - loss: 0.7770 - accuracy: 0.1293\n",
      "Epoch 27/100\n",
      "750/750 [==============================] - 0s 33us/sample - loss: 0.7707 - accuracy: 0.1333\n",
      "Epoch 28/100\n",
      "750/750 [==============================] - 0s 34us/sample - loss: 0.7647 - accuracy: 0.1453\n",
      "Epoch 29/100\n",
      "750/750 [==============================] - 0s 34us/sample - loss: 0.7591 - accuracy: 0.1627\n",
      "Epoch 30/100\n",
      "750/750 [==============================] - 0s 32us/sample - loss: 0.7539 - accuracy: 0.1773\n",
      "Epoch 31/100\n",
      "750/750 [==============================] - 0s 32us/sample - loss: 0.7488 - accuracy: 0.1933\n",
      "Epoch 32/100\n",
      "750/750 [==============================] - 0s 33us/sample - loss: 0.7441 - accuracy: 0.2027\n",
      "Epoch 33/100\n",
      "750/750 [==============================] - 0s 34us/sample - loss: 0.7395 - accuracy: 0.2173\n",
      "Epoch 34/100\n",
      "750/750 [==============================] - 0s 33us/sample - loss: 0.7352 - accuracy: 0.2347\n",
      "Epoch 35/100\n",
      "750/750 [==============================] - 0s 34us/sample - loss: 0.7312 - accuracy: 0.2693\n",
      "Epoch 36/100\n",
      "750/750 [==============================] - 0s 33us/sample - loss: 0.7272 - accuracy: 0.3000\n",
      "Epoch 37/100\n",
      "750/750 [==============================] - 0s 33us/sample - loss: 0.7235 - accuracy: 0.3440\n",
      "Epoch 38/100\n",
      "750/750 [==============================] - 0s 33us/sample - loss: 0.7199 - accuracy: 0.3787\n",
      "Epoch 39/100\n",
      "750/750 [==============================] - 0s 33us/sample - loss: 0.7164 - accuracy: 0.4240\n",
      "Epoch 40/100\n",
      "750/750 [==============================] - 0s 33us/sample - loss: 0.7130 - accuracy: 0.4427\n",
      "Epoch 41/100\n",
      "750/750 [==============================] - 0s 33us/sample - loss: 0.7098 - accuracy: 0.4653\n",
      "Epoch 42/100\n",
      "750/750 [==============================] - 0s 35us/sample - loss: 0.7066 - accuracy: 0.4853\n",
      "Epoch 43/100\n",
      "750/750 [==============================] - 0s 36us/sample - loss: 0.7035 - accuracy: 0.4907\n",
      "Epoch 44/100\n",
      "750/750 [==============================] - 0s 34us/sample - loss: 0.7004 - accuracy: 0.4933\n",
      "Epoch 45/100\n",
      "750/750 [==============================] - 0s 34us/sample - loss: 0.6973 - accuracy: 0.4933\n",
      "Epoch 46/100\n",
      "750/750 [==============================] - 0s 34us/sample - loss: 0.6943 - accuracy: 0.4933\n",
      "Epoch 47/100\n",
      "750/750 [==============================] - 0s 35us/sample - loss: 0.6913 - accuracy: 0.4933\n",
      "Epoch 48/100\n",
      "750/750 [==============================] - 0s 34us/sample - loss: 0.6882 - accuracy: 0.4933\n",
      "Epoch 49/100\n",
      "750/750 [==============================] - 0s 33us/sample - loss: 0.6851 - accuracy: 0.4933\n",
      "Epoch 50/100\n",
      "750/750 [==============================] - 0s 34us/sample - loss: 0.6820 - accuracy: 0.4933\n",
      "Epoch 51/100\n",
      "750/750 [==============================] - 0s 32us/sample - loss: 0.6787 - accuracy: 0.4933\n",
      "Epoch 52/100\n",
      "750/750 [==============================] - 0s 34us/sample - loss: 0.6755 - accuracy: 0.4933\n",
      "Epoch 53/100\n",
      "750/750 [==============================] - 0s 32us/sample - loss: 0.6719 - accuracy: 0.4933\n",
      "Epoch 54/100\n",
      "750/750 [==============================] - 0s 33us/sample - loss: 0.6684 - accuracy: 0.4933\n",
      "Epoch 55/100\n",
      "750/750 [==============================] - 0s 33us/sample - loss: 0.6646 - accuracy: 0.4933\n",
      "Epoch 56/100\n",
      "750/750 [==============================] - 0s 33us/sample - loss: 0.6605 - accuracy: 0.4933\n",
      "Epoch 57/100\n",
      "750/750 [==============================] - 0s 34us/sample - loss: 0.6562 - accuracy: 0.4933\n",
      "Epoch 58/100\n",
      "750/750 [==============================] - 0s 33us/sample - loss: 0.6517 - accuracy: 0.4933\n",
      "Epoch 59/100\n",
      "750/750 [==============================] - 0s 32us/sample - loss: 0.6469 - accuracy: 0.6960\n",
      "Epoch 60/100\n",
      "750/750 [==============================] - 0s 31us/sample - loss: 0.6417 - accuracy: 0.9880\n",
      "Epoch 61/100\n",
      "750/750 [==============================] - 0s 33us/sample - loss: 0.6362 - accuracy: 0.9867\n",
      "Epoch 62/100\n",
      "750/750 [==============================] - 0s 33us/sample - loss: 0.6304 - accuracy: 0.9840\n",
      "Epoch 63/100\n",
      "750/750 [==============================] - 0s 34us/sample - loss: 0.6241 - accuracy: 0.9840\n",
      "Epoch 64/100\n",
      "750/750 [==============================] - 0s 33us/sample - loss: 0.6175 - accuracy: 0.9840\n",
      "Epoch 65/100\n",
      "750/750 [==============================] - 0s 33us/sample - loss: 0.6104 - accuracy: 0.9840\n",
      "Epoch 66/100\n",
      "750/750 [==============================] - 0s 40us/sample - loss: 0.6029 - accuracy: 0.9840\n",
      "Epoch 67/100\n",
      "750/750 [==============================] - 0s 38us/sample - loss: 0.5949 - accuracy: 0.9840\n",
      "Epoch 68/100\n",
      "750/750 [==============================] - 0s 36us/sample - loss: 0.5865 - accuracy: 0.9853\n",
      "Epoch 69/100\n",
      "750/750 [==============================] - 0s 35us/sample - loss: 0.5777 - accuracy: 0.9867\n",
      "Epoch 70/100\n",
      "750/750 [==============================] - 0s 33us/sample - loss: 0.5684 - accuracy: 0.9880\n",
      "Epoch 71/100\n",
      "750/750 [==============================] - 0s 32us/sample - loss: 0.5588 - accuracy: 0.9880\n",
      "Epoch 72/100\n",
      "750/750 [==============================] - 0s 33us/sample - loss: 0.5488 - accuracy: 0.9880\n",
      "Epoch 73/100\n",
      "750/750 [==============================] - 0s 33us/sample - loss: 0.5386 - accuracy: 0.9893\n",
      "Epoch 74/100\n",
      "750/750 [==============================] - 0s 35us/sample - loss: 0.5280 - accuracy: 0.9893\n",
      "Epoch 75/100\n",
      "750/750 [==============================] - 0s 33us/sample - loss: 0.5173 - accuracy: 0.9893\n",
      "Epoch 76/100\n",
      "750/750 [==============================] - 0s 32us/sample - loss: 0.5062 - accuracy: 0.9920\n",
      "Epoch 77/100\n",
      "750/750 [==============================] - 0s 32us/sample - loss: 0.4952 - accuracy: 0.9933\n",
      "Epoch 78/100\n"
     ]
    },
    {
     "name": "stdout",
     "output_type": "stream",
     "text": [
      "750/750 [==============================] - 0s 33us/sample - loss: 0.4840 - accuracy: 0.9933\n",
      "Epoch 79/100\n",
      "750/750 [==============================] - 0s 34us/sample - loss: 0.4728 - accuracy: 0.9947\n",
      "Epoch 80/100\n",
      "750/750 [==============================] - 0s 31us/sample - loss: 0.4617 - accuracy: 0.9947\n",
      "Epoch 81/100\n",
      "750/750 [==============================] - 0s 32us/sample - loss: 0.4505 - accuracy: 0.9947\n",
      "Epoch 82/100\n",
      "750/750 [==============================] - 0s 32us/sample - loss: 0.4395 - accuracy: 0.9947\n",
      "Epoch 83/100\n",
      "750/750 [==============================] - 0s 32us/sample - loss: 0.4286 - accuracy: 0.9947\n",
      "Epoch 84/100\n",
      "750/750 [==============================] - 0s 31us/sample - loss: 0.4177 - accuracy: 0.9947\n",
      "Epoch 85/100\n",
      "750/750 [==============================] - 0s 32us/sample - loss: 0.4071 - accuracy: 0.9947\n",
      "Epoch 86/100\n",
      "750/750 [==============================] - 0s 31us/sample - loss: 0.3966 - accuracy: 0.9947\n",
      "Epoch 87/100\n",
      "750/750 [==============================] - 0s 32us/sample - loss: 0.3864 - accuracy: 0.9947\n",
      "Epoch 88/100\n",
      "750/750 [==============================] - 0s 31us/sample - loss: 0.3764 - accuracy: 0.9947\n",
      "Epoch 89/100\n",
      "750/750 [==============================] - 0s 33us/sample - loss: 0.3667 - accuracy: 0.9947\n",
      "Epoch 90/100\n",
      "750/750 [==============================] - 0s 33us/sample - loss: 0.3572 - accuracy: 0.9947\n",
      "Epoch 91/100\n",
      "750/750 [==============================] - 0s 31us/sample - loss: 0.3479 - accuracy: 0.9947\n",
      "Epoch 92/100\n",
      "750/750 [==============================] - 0s 32us/sample - loss: 0.3389 - accuracy: 0.9960\n",
      "Epoch 93/100\n",
      "750/750 [==============================] - 0s 31us/sample - loss: 0.3302 - accuracy: 0.9960\n",
      "Epoch 94/100\n",
      "750/750 [==============================] - 0s 31us/sample - loss: 0.3217 - accuracy: 0.9960\n",
      "Epoch 95/100\n",
      "750/750 [==============================] - 0s 31us/sample - loss: 0.3136 - accuracy: 0.9960\n",
      "Epoch 96/100\n",
      "750/750 [==============================] - 0s 31us/sample - loss: 0.3056 - accuracy: 0.9960\n",
      "Epoch 97/100\n",
      "750/750 [==============================] - 0s 31us/sample - loss: 0.2979 - accuracy: 0.9960\n",
      "Epoch 98/100\n",
      "750/750 [==============================] - 0s 31us/sample - loss: 0.2905 - accuracy: 0.9960\n",
      "Epoch 99/100\n",
      "750/750 [==============================] - 0s 32us/sample - loss: 0.2832 - accuracy: 0.9960\n",
      "Epoch 100/100\n",
      "750/750 [==============================] - 0s 32us/sample - loss: 0.2763 - accuracy: 0.9960\n"
     ]
    }
   ],
   "source": [
    "# Fit the model to the training data\n",
    "fit_model = nn_model.fit(X_train_scaled, y_train, epochs=100)"
   ]
  },
  {
   "cell_type": "code",
   "execution_count": 14,
   "id": "2950bce4",
   "metadata": {},
   "outputs": [
    {
     "data": {
      "text/plain": [
       "<AxesSubplot:>"
      ]
     },
     "execution_count": 14,
     "metadata": {},
     "output_type": "execute_result"
    },
    {
     "data": {
      "image/png": "[encoded data removed]",
      "text/plain": [
       "<Figure size 432x288 with 1 Axes>"
      ]
     },
     "metadata": {
      "needs_background": "light"
     },
     "output_type": "display_data"
    }
   ],
   "source": [
    "# Create a DataFrame containing training history\n",
    "history_df = pd.DataFrame(fit_model.history, index=range(1,len(fit_model.history[\"loss\"])+1))\n",
    "\n",
    "# Plot the loss\n",
    "history_df.plot(y=\"loss\")"
   ]
  },
  {
   "cell_type": "code",
   "execution_count": 15,
   "id": "88bca67b",
   "metadata": {},
   "outputs": [
    {
     "data": {
      "text/plain": [
       "<AxesSubplot:>"
      ]
     },
     "execution_count": 15,
     "metadata": {},
     "output_type": "execute_result"
    },
    {
     "data": {
      "image/png": "[encoded data removed]",
      "text/plain": [
       "<Figure size 432x288 with 1 Axes>"
      ]
     },
     "metadata": {
      "needs_background": "light"
     },
     "output_type": "display_data"
    }
   ],
   "source": [
    "# Plot the accuracy\n",
    "history_df.plot(y=\"accuracy\")"
   ]
  },
  {
   "cell_type": "code",
   "execution_count": 16,
   "id": "fd7f60c9",
   "metadata": {},
   "outputs": [
    {
     "name": "stdout",
     "output_type": "stream",
     "text": [
      "250/1 - 0s - loss: 0.2728 - accuracy: 1.0000\n",
      "Loss: 0.26231960344314575, Accuracy: 1.0\n"
     ]
    }
   ],
   "source": [
    "# Evaluate the model using the test data\n",
    "model_loss, model_accuracy = nn_model.evaluate(X_test_scaled,y_test,verbose=2)\n",
    "print(f\"Loss: {model_loss}, Accuracy: {model_accuracy}\")"
   ]
  },
  {
   "cell_type": "code",
   "execution_count": 17,
   "id": "95471080",
   "metadata": {},
   "outputs": [
    {
     "data": {
      "text/plain": [
       "array([[0],\n",
       "       [1],\n",
       "       [0],\n",
       "       [1],\n",
       "       [0],\n",
       "       [0],\n",
       "       [1],\n",
       "       [1],\n",
       "       [1],\n",
       "       [0]], dtype=int32)"
      ]
     },
     "execution_count": 17,
     "metadata": {},
     "output_type": "execute_result"
    }
   ],
   "source": [
    "# Predict the classification of a new set of blob data\n",
    "new_X, new_Y = make_blobs(n_samples=10, centers=2, n_features=2, random_state=78)\n",
    "new_X_scaled = X_scaler.transform(new_X)\n",
    "(nn_model.predict(new_X_scaled) > 0.5).astype(\"int32\")"
   ]
  },
  {
   "cell_type": "code",
   "execution_count": 18,
   "id": "d8e42e8e",
   "metadata": {},
   "outputs": [
    {
     "data": {
      "text/plain": [
       "<AxesSubplot:xlabel='Feature 1', ylabel='Feature 2'>"
      ]
     },
     "execution_count": 18,
     "metadata": {},
     "output_type": "execute_result"
    },
    {
     "data": {
      "image/png": "[encoded data removed]",
      "text/plain": [
       "<Figure size 432x288 with 2 Axes>"
      ]
     },
     "metadata": {
      "needs_background": "light"
     },
     "output_type": "display_data"
    }
   ],
   "source": [
    "from sklearn.datasets import make_moons\n",
    "\n",
    "# Creating dummy nonlinear data\n",
    "X_moons, y_moons = make_moons(n_samples=1000, noise=0.08, random_state=78)\n",
    "\n",
    "# Transforming y_moons to a vertical vector\n",
    "y_moons = y_moons.reshape(-1, 1)\n",
    "\n",
    "# Creating a DataFrame to plot the nonlinear dummy data\n",
    "df_moons = pd.DataFrame(X_moons, columns=[\"Feature 1\", \"Feature 2\"])\n",
    "df_moons[\"Target\"] = y_moons\n",
    "\n",
    "# Plot the nonlinear dummy data\n",
    "df_moons.plot.scatter(x=\"Feature 1\",y=\"Feature 2\", c=\"Target\",colormap=\"winter\")"
   ]
  },
  {
   "cell_type": "code",
   "execution_count": 19,
   "id": "424f66ff",
   "metadata": {},
   "outputs": [],
   "source": [
    "# Create training and testing sets\n",
    "X_moon_train, X_moon_test, y_moon_train, y_moon_test = train_test_split(\n",
    "    X_moons, y_moons, random_state=78\n",
    ")\n",
    "\n",
    "# Create the scaler instance\n",
    "X_moon_scaler = skl.preprocessing.StandardScaler()\n",
    "\n",
    "# Fit the scaler\n",
    "X_moon_scaler.fit(X_moon_train)\n",
    "\n",
    "# Scale the data\n",
    "X_moon_train_scaled = X_moon_scaler.transform(X_moon_train)\n",
    "X_moon_test_scaled = X_moon_scaler.transform(X_moon_test)\n"
   ]
  },
  {
   "cell_type": "code",
   "execution_count": 20,
   "id": "f7778d33",
   "metadata": {},
   "outputs": [
    {
     "name": "stdout",
     "output_type": "stream",
     "text": [
      "Train on 750 samples\n",
      "Epoch 1/100\n",
      "750/750 [==============================] - 0s 77us/sample - loss: 0.8340 - accuracy: 0.3893\n",
      "Epoch 2/100\n",
      "750/750 [==============================] - 0s 34us/sample - loss: 0.8052 - accuracy: 0.4040\n",
      "Epoch 3/100\n",
      "750/750 [==============================] - 0s 34us/sample - loss: 0.7790 - accuracy: 0.4227\n",
      "Epoch 4/100\n",
      "750/750 [==============================] - 0s 34us/sample - loss: 0.7571 - accuracy: 0.4440\n",
      "Epoch 5/100\n",
      "750/750 [==============================] - 0s 33us/sample - loss: 0.7398 - accuracy: 0.4493\n",
      "Epoch 6/100\n",
      "750/750 [==============================] - 0s 35us/sample - loss: 0.7246 - accuracy: 0.4680\n",
      "Epoch 7/100\n",
      "750/750 [==============================] - 0s 34us/sample - loss: 0.7123 - accuracy: 0.4853\n",
      "Epoch 8/100\n",
      "750/750 [==============================] - 0s 35us/sample - loss: 0.7016 - accuracy: 0.5040\n",
      "Epoch 9/100\n",
      "750/750 [==============================] - 0s 35us/sample - loss: 0.6920 - accuracy: 0.5187\n",
      "Epoch 10/100\n",
      "750/750 [==============================] - 0s 34us/sample - loss: 0.6836 - accuracy: 0.5320\n",
      "Epoch 11/100\n",
      "750/750 [==============================] - 0s 34us/sample - loss: 0.6758 - accuracy: 0.5413\n",
      "Epoch 12/100\n",
      "750/750 [==============================] - 0s 34us/sample - loss: 0.6687 - accuracy: 0.5480\n",
      "Epoch 13/100\n",
      "750/750 [==============================] - 0s 34us/sample - loss: 0.6620 - accuracy: 0.5600\n",
      "Epoch 14/100\n",
      "750/750 [==============================] - 0s 33us/sample - loss: 0.6558 - accuracy: 0.5653\n",
      "Epoch 15/100\n",
      "750/750 [==============================] - 0s 32us/sample - loss: 0.6502 - accuracy: 0.5720\n",
      "Epoch 16/100\n",
      "750/750 [==============================] - 0s 33us/sample - loss: 0.6448 - accuracy: 0.5773\n",
      "Epoch 17/100\n",
      "750/750 [==============================] - 0s 33us/sample - loss: 0.6400 - accuracy: 0.5840\n",
      "Epoch 18/100\n",
      "750/750 [==============================] - 0s 35us/sample - loss: 0.6353 - accuracy: 0.5907\n",
      "Epoch 19/100\n",
      "750/750 [==============================] - 0s 34us/sample - loss: 0.6308 - accuracy: 0.6013\n",
      "Epoch 20/100\n",
      "750/750 [==============================] - 0s 34us/sample - loss: 0.6265 - accuracy: 0.6120\n",
      "Epoch 21/100\n",
      "750/750 [==============================] - 0s 34us/sample - loss: 0.6224 - accuracy: 0.6133\n",
      "Epoch 22/100\n",
      "750/750 [==============================] - 0s 33us/sample - loss: 0.6184 - accuracy: 0.6187\n",
      "Epoch 23/100\n",
      "750/750 [==============================] - 0s 34us/sample - loss: 0.6146 - accuracy: 0.6227\n",
      "Epoch 24/100\n",
      "750/750 [==============================] - 0s 34us/sample - loss: 0.6110 - accuracy: 0.6280\n",
      "Epoch 25/100\n",
      "750/750 [==============================] - 0s 35us/sample - loss: 0.6076 - accuracy: 0.6333\n",
      "Epoch 26/100\n",
      "750/750 [==============================] - 0s 35us/sample - loss: 0.6044 - accuracy: 0.6320\n",
      "Epoch 27/100\n",
      "750/750 [==============================] - 0s 34us/sample - loss: 0.6011 - accuracy: 0.6387\n",
      "Epoch 28/100\n",
      "750/750 [==============================] - 0s 35us/sample - loss: 0.5980 - accuracy: 0.6453\n",
      "Epoch 29/100\n",
      "750/750 [==============================] - 0s 35us/sample - loss: 0.5949 - accuracy: 0.6493\n",
      "Epoch 30/100\n",
      "750/750 [==============================] - 0s 35us/sample - loss: 0.5919 - accuracy: 0.6533\n",
      "Epoch 31/100\n",
      "750/750 [==============================] - 0s 35us/sample - loss: 0.5889 - accuracy: 0.6533\n",
      "Epoch 32/100\n",
      "750/750 [==============================] - 0s 35us/sample - loss: 0.5859 - accuracy: 0.6573\n",
      "Epoch 33/100\n",
      "750/750 [==============================] - 0s 35us/sample - loss: 0.5831 - accuracy: 0.6640\n",
      "Epoch 34/100\n",
      "750/750 [==============================] - 0s 34us/sample - loss: 0.5804 - accuracy: 0.6640\n",
      "Epoch 35/100\n",
      "750/750 [==============================] - 0s 34us/sample - loss: 0.5777 - accuracy: 0.6680\n",
      "Epoch 36/100\n",
      "750/750 [==============================] - 0s 42us/sample - loss: 0.5751 - accuracy: 0.6720\n",
      "Epoch 37/100\n",
      "750/750 [==============================] - 0s 35us/sample - loss: 0.5724 - accuracy: 0.6773\n",
      "Epoch 38/100\n",
      "750/750 [==============================] - 0s 35us/sample - loss: 0.5695 - accuracy: 0.6760\n",
      "Epoch 39/100\n",
      "750/750 [==============================] - 0s 33us/sample - loss: 0.5668 - accuracy: 0.6773\n",
      "Epoch 40/100\n",
      "750/750 [==============================] - 0s 35us/sample - loss: 0.5639 - accuracy: 0.6800\n",
      "Epoch 41/100\n",
      "750/750 [==============================] - 0s 34us/sample - loss: 0.5611 - accuracy: 0.6827\n",
      "Epoch 42/100\n",
      "750/750 [==============================] - 0s 35us/sample - loss: 0.5582 - accuracy: 0.6853\n",
      "Epoch 43/100\n",
      "750/750 [==============================] - 0s 35us/sample - loss: 0.5555 - accuracy: 0.6867\n",
      "Epoch 44/100\n",
      "750/750 [==============================] - 0s 37us/sample - loss: 0.5527 - accuracy: 0.6880\n",
      "Epoch 45/100\n",
      "750/750 [==============================] - 0s 34us/sample - loss: 0.5500 - accuracy: 0.6893\n",
      "Epoch 46/100\n",
      "750/750 [==============================] - 0s 34us/sample - loss: 0.5475 - accuracy: 0.6907\n",
      "Epoch 47/100\n",
      "750/750 [==============================] - 0s 34us/sample - loss: 0.5449 - accuracy: 0.6920\n",
      "Epoch 48/100\n",
      "750/750 [==============================] - 0s 34us/sample - loss: 0.5423 - accuracy: 0.6933\n",
      "Epoch 49/100\n",
      "750/750 [==============================] - 0s 34us/sample - loss: 0.5399 - accuracy: 0.6933\n",
      "Epoch 50/100\n",
      "750/750 [==============================] - 0s 33us/sample - loss: 0.5373 - accuracy: 0.6947\n",
      "Epoch 51/100\n",
      "750/750 [==============================] - 0s 33us/sample - loss: 0.5348 - accuracy: 0.6947\n",
      "Epoch 52/100\n",
      "750/750 [==============================] - 0s 35us/sample - loss: 0.5324 - accuracy: 0.7000\n",
      "Epoch 53/100\n",
      "750/750 [==============================] - 0s 36us/sample - loss: 0.5299 - accuracy: 0.7013\n",
      "Epoch 54/100\n",
      "750/750 [==============================] - 0s 34us/sample - loss: 0.5274 - accuracy: 0.7027\n",
      "Epoch 55/100\n",
      "750/750 [==============================] - 0s 33us/sample - loss: 0.5249 - accuracy: 0.7053\n",
      "Epoch 56/100\n",
      "750/750 [==============================] - 0s 34us/sample - loss: 0.5223 - accuracy: 0.7093\n",
      "Epoch 57/100\n",
      "750/750 [==============================] - 0s 33us/sample - loss: 0.5198 - accuracy: 0.7093\n",
      "Epoch 58/100\n",
      "750/750 [==============================] - 0s 33us/sample - loss: 0.5174 - accuracy: 0.7147\n",
      "Epoch 59/100\n",
      "750/750 [==============================] - 0s 33us/sample - loss: 0.5148 - accuracy: 0.7173\n",
      "Epoch 60/100\n",
      "750/750 [==============================] - 0s 33us/sample - loss: 0.5124 - accuracy: 0.7187\n",
      "Epoch 61/100\n",
      "750/750 [==============================] - 0s 34us/sample - loss: 0.5100 - accuracy: 0.7240\n",
      "Epoch 62/100\n",
      "750/750 [==============================] - 0s 33us/sample - loss: 0.5076 - accuracy: 0.7307\n",
      "Epoch 63/100\n",
      "750/750 [==============================] - 0s 32us/sample - loss: 0.5053 - accuracy: 0.7333\n",
      "Epoch 64/100\n",
      "750/750 [==============================] - 0s 31us/sample - loss: 0.5029 - accuracy: 0.7333\n",
      "Epoch 65/100\n",
      "750/750 [==============================] - 0s 34us/sample - loss: 0.5005 - accuracy: 0.7387\n",
      "Epoch 66/100\n",
      "750/750 [==============================] - 0s 34us/sample - loss: 0.4980 - accuracy: 0.7427\n",
      "Epoch 67/100\n",
      "750/750 [==============================] - 0s 33us/sample - loss: 0.4956 - accuracy: 0.7453\n",
      "Epoch 68/100\n",
      "750/750 [==============================] - 0s 34us/sample - loss: 0.4932 - accuracy: 0.7480\n",
      "Epoch 69/100\n",
      "750/750 [==============================] - 0s 34us/sample - loss: 0.4910 - accuracy: 0.7493\n",
      "Epoch 70/100\n",
      "750/750 [==============================] - 0s 34us/sample - loss: 0.4886 - accuracy: 0.7507\n",
      "Epoch 71/100\n",
      "750/750 [==============================] - 0s 34us/sample - loss: 0.4863 - accuracy: 0.7547\n",
      "Epoch 72/100\n",
      "750/750 [==============================] - 0s 34us/sample - loss: 0.4839 - accuracy: 0.7560\n",
      "Epoch 73/100\n",
      "750/750 [==============================] - 0s 34us/sample - loss: 0.4816 - accuracy: 0.7573\n",
      "Epoch 74/100\n",
      "750/750 [==============================] - 0s 32us/sample - loss: 0.4792 - accuracy: 0.7573\n",
      "Epoch 75/100\n",
      "750/750 [==============================] - 0s 32us/sample - loss: 0.4769 - accuracy: 0.7587\n",
      "Epoch 76/100\n",
      "750/750 [==============================] - 0s 35us/sample - loss: 0.4746 - accuracy: 0.7600\n",
      "Epoch 77/100\n",
      "750/750 [==============================] - 0s 34us/sample - loss: 0.4724 - accuracy: 0.7600\n",
      "Epoch 78/100\n"
     ]
    },
    {
     "name": "stdout",
     "output_type": "stream",
     "text": [
      "750/750 [==============================] - 0s 34us/sample - loss: 0.4701 - accuracy: 0.7627\n",
      "Epoch 79/100\n",
      "750/750 [==============================] - 0s 33us/sample - loss: 0.4678 - accuracy: 0.7627\n",
      "Epoch 80/100\n",
      "750/750 [==============================] - 0s 33us/sample - loss: 0.4655 - accuracy: 0.7680\n",
      "Epoch 81/100\n",
      "750/750 [==============================] - 0s 32us/sample - loss: 0.4632 - accuracy: 0.7680\n",
      "Epoch 82/100\n",
      "750/750 [==============================] - 0s 32us/sample - loss: 0.4609 - accuracy: 0.7693\n",
      "Epoch 83/100\n",
      "750/750 [==============================] - 0s 31us/sample - loss: 0.4586 - accuracy: 0.7733\n",
      "Epoch 84/100\n",
      "750/750 [==============================] - 0s 31us/sample - loss: 0.4562 - accuracy: 0.7773\n",
      "Epoch 85/100\n",
      "750/750 [==============================] - 0s 32us/sample - loss: 0.4539 - accuracy: 0.7773\n",
      "Epoch 86/100\n",
      "750/750 [==============================] - 0s 31us/sample - loss: 0.4517 - accuracy: 0.7787\n",
      "Epoch 87/100\n",
      "750/750 [==============================] - 0s 32us/sample - loss: 0.4495 - accuracy: 0.7813\n",
      "Epoch 88/100\n",
      "750/750 [==============================] - 0s 32us/sample - loss: 0.4473 - accuracy: 0.7827\n",
      "Epoch 89/100\n",
      "750/750 [==============================] - 0s 33us/sample - loss: 0.4452 - accuracy: 0.7853\n",
      "Epoch 90/100\n",
      "750/750 [==============================] - 0s 33us/sample - loss: 0.4430 - accuracy: 0.7867\n",
      "Epoch 91/100\n",
      "750/750 [==============================] - 0s 33us/sample - loss: 0.4409 - accuracy: 0.7893\n",
      "Epoch 92/100\n",
      "750/750 [==============================] - 0s 33us/sample - loss: 0.4388 - accuracy: 0.7920\n",
      "Epoch 93/100\n",
      "750/750 [==============================] - 0s 34us/sample - loss: 0.4366 - accuracy: 0.7933\n",
      "Epoch 94/100\n",
      "750/750 [==============================] - 0s 32us/sample - loss: 0.4346 - accuracy: 0.7933\n",
      "Epoch 95/100\n",
      "750/750 [==============================] - 0s 34us/sample - loss: 0.4324 - accuracy: 0.7947\n",
      "Epoch 96/100\n",
      "750/750 [==============================] - 0s 32us/sample - loss: 0.4302 - accuracy: 0.7987\n",
      "Epoch 97/100\n",
      "750/750 [==============================] - 0s 34us/sample - loss: 0.4281 - accuracy: 0.8013\n",
      "Epoch 98/100\n",
      "750/750 [==============================] - 0s 36us/sample - loss: 0.4261 - accuracy: 0.8027\n",
      "Epoch 99/100\n",
      "750/750 [==============================] - 0s 36us/sample - loss: 0.4240 - accuracy: 0.8040\n",
      "Epoch 100/100\n",
      "750/750 [==============================] - 0s 33us/sample - loss: 0.4220 - accuracy: 0.8053\n"
     ]
    }
   ],
   "source": [
    "# Training the model with the nonlinear data\n",
    "model_moon = nn_model.fit(X_moon_train_scaled, y_moon_train, epochs=100, shuffle=True)"
   ]
  },
  {
   "cell_type": "code",
   "execution_count": 21,
   "id": "44c4b245",
   "metadata": {},
   "outputs": [
    {
     "data": {
      "text/plain": [
       "<AxesSubplot:>"
      ]
     },
     "execution_count": 21,
     "metadata": {},
     "output_type": "execute_result"
    },
    {
     "data": {
      "image/png": "[encoded data removed]",
      "text/plain": [
       "<Figure size 432x288 with 1 Axes>"
      ]
     },
     "metadata": {
      "needs_background": "light"
     },
     "output_type": "display_data"
    }
   ],
   "source": [
    "# Create a DataFrame containing training history\n",
    "history_df = pd.DataFrame(model_moon.history, index=range(1,len(model_moon.history[\"loss\"])+1))\n",
    "\n",
    "# Plot the loss\n",
    "history_df.plot(y=\"loss\")"
   ]
  },
  {
   "cell_type": "code",
   "execution_count": 22,
   "id": "c85eb229",
   "metadata": {},
   "outputs": [
    {
     "data": {
      "text/plain": [
       "<AxesSubplot:>"
      ]
     },
     "execution_count": 22,
     "metadata": {},
     "output_type": "execute_result"
    },
    {
     "data": {
      "image/png": "[encoded data removed]",
      "text/plain": [
       "<Figure size 432x288 with 1 Axes>"
      ]
     },
     "metadata": {
      "needs_background": "light"
     },
     "output_type": "display_data"
    }
   ],
   "source": [
    "# Plot the accuracy\n",
    "history_df.plot(y=\"accuracy\")"
   ]
  },
  {
   "cell_type": "code",
   "execution_count": 24,
   "id": "8824752e",
   "metadata": {},
   "outputs": [],
   "source": [
    "# Generate our new Sequential model\n",
    "new_model = tf.keras.models.Sequential()"
   ]
  },
  {
   "cell_type": "code",
   "execution_count": 25,
   "id": "ef410f53",
   "metadata": {},
   "outputs": [],
   "source": [
    "# Add the input and hidden layer\n",
    "number_inputs = 2\n",
    "number_hidden_nodes = 6\n",
    "\n",
    "new_model.add(tf.keras.layers.Dense(units=number_hidden_nodes, activation=\"relu\", input_dim=number_inputs))\n",
    "\n",
    "# Add the output layer that uses a probability activation function\n",
    "new_model.add(tf.keras.layers.Dense(units=1, activation=\"sigmoid\"))"
   ]
  },
  {
   "cell_type": "code",
   "execution_count": 26,
   "id": "ae48b1ae",
   "metadata": {},
   "outputs": [
    {
     "name": "stdout",
     "output_type": "stream",
     "text": [
      "Train on 750 samples\n",
      "Epoch 1/100\n",
      "750/750 [==============================] - 1s 799us/sample - loss: 0.7340 - accuracy: 0.4693\n",
      "Epoch 2/100\n",
      "750/750 [==============================] - 0s 34us/sample - loss: 0.6924 - accuracy: 0.4653\n",
      "Epoch 3/100\n",
      "750/750 [==============================] - 0s 35us/sample - loss: 0.6544 - accuracy: 0.4920\n",
      "Epoch 4/100\n",
      "750/750 [==============================] - 0s 33us/sample - loss: 0.6187 - accuracy: 0.5760\n",
      "Epoch 5/100\n",
      "750/750 [==============================] - 0s 33us/sample - loss: 0.5857 - accuracy: 0.6853\n",
      "Epoch 6/100\n",
      "750/750 [==============================] - 0s 33us/sample - loss: 0.5543 - accuracy: 0.7640\n",
      "Epoch 7/100\n",
      "750/750 [==============================] - 0s 34us/sample - loss: 0.5247 - accuracy: 0.8053\n",
      "Epoch 8/100\n",
      "750/750 [==============================] - 0s 34us/sample - loss: 0.4979 - accuracy: 0.8253\n",
      "Epoch 9/100\n",
      "750/750 [==============================] - 0s 34us/sample - loss: 0.4727 - accuracy: 0.8373\n",
      "Epoch 10/100\n",
      "750/750 [==============================] - 0s 34us/sample - loss: 0.4503 - accuracy: 0.8440\n",
      "Epoch 11/100\n",
      "750/750 [==============================] - 0s 34us/sample - loss: 0.4299 - accuracy: 0.8520\n",
      "Epoch 12/100\n",
      "750/750 [==============================] - 0s 34us/sample - loss: 0.4118 - accuracy: 0.8520\n",
      "Epoch 13/100\n",
      "750/750 [==============================] - 0s 34us/sample - loss: 0.3957 - accuracy: 0.8587\n",
      "Epoch 14/100\n",
      "750/750 [==============================] - 0s 34us/sample - loss: 0.3813 - accuracy: 0.8613\n",
      "Epoch 15/100\n",
      "750/750 [==============================] - 0s 33us/sample - loss: 0.3685 - accuracy: 0.8627\n",
      "Epoch 16/100\n",
      "750/750 [==============================] - 0s 34us/sample - loss: 0.3571 - accuracy: 0.8680\n",
      "Epoch 17/100\n",
      "750/750 [==============================] - 0s 33us/sample - loss: 0.3471 - accuracy: 0.8707\n",
      "Epoch 18/100\n",
      "750/750 [==============================] - 0s 33us/sample - loss: 0.3381 - accuracy: 0.8720\n",
      "Epoch 19/100\n",
      "750/750 [==============================] - 0s 33us/sample - loss: 0.3301 - accuracy: 0.8720\n",
      "Epoch 20/100\n",
      "750/750 [==============================] - 0s 34us/sample - loss: 0.3228 - accuracy: 0.8733\n",
      "Epoch 21/100\n",
      "750/750 [==============================] - 0s 34us/sample - loss: 0.3164 - accuracy: 0.8733\n",
      "Epoch 22/100\n",
      "750/750 [==============================] - 0s 34us/sample - loss: 0.3105 - accuracy: 0.8747\n",
      "Epoch 23/100\n",
      "750/750 [==============================] - 0s 35us/sample - loss: 0.3052 - accuracy: 0.8747\n",
      "Epoch 24/100\n",
      "750/750 [==============================] - 0s 35us/sample - loss: 0.3003 - accuracy: 0.8760\n",
      "Epoch 25/100\n",
      "750/750 [==============================] - 0s 35us/sample - loss: 0.2959 - accuracy: 0.8773\n",
      "Epoch 26/100\n",
      "750/750 [==============================] - 0s 33us/sample - loss: 0.2918 - accuracy: 0.8787\n",
      "Epoch 27/100\n",
      "750/750 [==============================] - 0s 32us/sample - loss: 0.2881 - accuracy: 0.8813\n",
      "Epoch 28/100\n",
      "750/750 [==============================] - 0s 34us/sample - loss: 0.2846 - accuracy: 0.8827\n",
      "Epoch 29/100\n",
      "750/750 [==============================] - 0s 35us/sample - loss: 0.2815 - accuracy: 0.8867\n",
      "Epoch 30/100\n",
      "750/750 [==============================] - 0s 33us/sample - loss: 0.2786 - accuracy: 0.8893\n",
      "Epoch 31/100\n",
      "750/750 [==============================] - 0s 34us/sample - loss: 0.2758 - accuracy: 0.8893\n",
      "Epoch 32/100\n",
      "750/750 [==============================] - 0s 35us/sample - loss: 0.2732 - accuracy: 0.8907\n",
      "Epoch 33/100\n",
      "750/750 [==============================] - 0s 33us/sample - loss: 0.2708 - accuracy: 0.8920\n",
      "Epoch 34/100\n",
      "750/750 [==============================] - 0s 34us/sample - loss: 0.2687 - accuracy: 0.8933\n",
      "Epoch 35/100\n",
      "750/750 [==============================] - 0s 34us/sample - loss: 0.2664 - accuracy: 0.8947\n",
      "Epoch 36/100\n",
      "750/750 [==============================] - 0s 33us/sample - loss: 0.2643 - accuracy: 0.8960\n",
      "Epoch 37/100\n",
      "750/750 [==============================] - 0s 33us/sample - loss: 0.2625 - accuracy: 0.8960\n",
      "Epoch 38/100\n",
      "750/750 [==============================] - 0s 35us/sample - loss: 0.2608 - accuracy: 0.8973\n",
      "Epoch 39/100\n",
      "750/750 [==============================] - 0s 35us/sample - loss: 0.2591 - accuracy: 0.8973\n",
      "Epoch 40/100\n",
      "750/750 [==============================] - 0s 35us/sample - loss: 0.2574 - accuracy: 0.8973\n",
      "Epoch 41/100\n",
      "750/750 [==============================] - 0s 34us/sample - loss: 0.2558 - accuracy: 0.8987\n",
      "Epoch 42/100\n",
      "750/750 [==============================] - 0s 35us/sample - loss: 0.2543 - accuracy: 0.9000\n",
      "Epoch 43/100\n",
      "750/750 [==============================] - 0s 35us/sample - loss: 0.2529 - accuracy: 0.9013\n",
      "Epoch 44/100\n",
      "750/750 [==============================] - 0s 34us/sample - loss: 0.2514 - accuracy: 0.9013\n",
      "Epoch 45/100\n",
      "750/750 [==============================] - 0s 36us/sample - loss: 0.2501 - accuracy: 0.9013\n",
      "Epoch 46/100\n",
      "750/750 [==============================] - 0s 36us/sample - loss: 0.2486 - accuracy: 0.9013\n",
      "Epoch 47/100\n",
      "750/750 [==============================] - 0s 36us/sample - loss: 0.2473 - accuracy: 0.9013\n",
      "Epoch 48/100\n",
      "750/750 [==============================] - 0s 37us/sample - loss: 0.2460 - accuracy: 0.9000\n",
      "Epoch 49/100\n",
      "750/750 [==============================] - 0s 35us/sample - loss: 0.2449 - accuracy: 0.9013\n",
      "Epoch 50/100\n",
      "750/750 [==============================] - 0s 35us/sample - loss: 0.2434 - accuracy: 0.9013\n",
      "Epoch 51/100\n",
      "750/750 [==============================] - 0s 35us/sample - loss: 0.2422 - accuracy: 0.9013\n",
      "Epoch 52/100\n",
      "750/750 [==============================] - 0s 33us/sample - loss: 0.2410 - accuracy: 0.9027\n",
      "Epoch 53/100\n",
      "750/750 [==============================] - 0s 37us/sample - loss: 0.2399 - accuracy: 0.9013\n",
      "Epoch 54/100\n",
      "750/750 [==============================] - 0s 33us/sample - loss: 0.2388 - accuracy: 0.9027\n",
      "Epoch 55/100\n",
      "750/750 [==============================] - 0s 33us/sample - loss: 0.2377 - accuracy: 0.9013\n",
      "Epoch 56/100\n",
      "750/750 [==============================] - 0s 33us/sample - loss: 0.2367 - accuracy: 0.9013\n",
      "Epoch 57/100\n",
      "750/750 [==============================] - 0s 33us/sample - loss: 0.2358 - accuracy: 0.9013\n",
      "Epoch 58/100\n",
      "750/750 [==============================] - 0s 33us/sample - loss: 0.2348 - accuracy: 0.9013\n",
      "Epoch 59/100\n",
      "750/750 [==============================] - 0s 33us/sample - loss: 0.2338 - accuracy: 0.9027\n",
      "Epoch 60/100\n",
      "750/750 [==============================] - 0s 33us/sample - loss: 0.2329 - accuracy: 0.9027\n",
      "Epoch 61/100\n",
      "750/750 [==============================] - 0s 33us/sample - loss: 0.2321 - accuracy: 0.9027\n",
      "Epoch 62/100\n",
      "750/750 [==============================] - 0s 32us/sample - loss: 0.2310 - accuracy: 0.9027\n",
      "Epoch 63/100\n",
      "750/750 [==============================] - 0s 31us/sample - loss: 0.2301 - accuracy: 0.9013\n",
      "Epoch 64/100\n",
      "750/750 [==============================] - 0s 33us/sample - loss: 0.2293 - accuracy: 0.9027\n",
      "Epoch 65/100\n",
      "750/750 [==============================] - 0s 36us/sample - loss: 0.2285 - accuracy: 0.9027\n",
      "Epoch 66/100\n",
      "750/750 [==============================] - 0s 34us/sample - loss: 0.2277 - accuracy: 0.9027\n",
      "Epoch 67/100\n",
      "750/750 [==============================] - 0s 34us/sample - loss: 0.2270 - accuracy: 0.9027\n",
      "Epoch 68/100\n",
      "750/750 [==============================] - 0s 34us/sample - loss: 0.2262 - accuracy: 0.9013\n",
      "Epoch 69/100\n",
      "750/750 [==============================] - 0s 34us/sample - loss: 0.2255 - accuracy: 0.9013\n",
      "Epoch 70/100\n",
      "750/750 [==============================] - 0s 35us/sample - loss: 0.2248 - accuracy: 0.9013\n",
      "Epoch 71/100\n",
      "750/750 [==============================] - 0s 34us/sample - loss: 0.2242 - accuracy: 0.9013\n",
      "Epoch 72/100\n",
      "750/750 [==============================] - 0s 34us/sample - loss: 0.2234 - accuracy: 0.9013\n",
      "Epoch 73/100\n",
      "750/750 [==============================] - 0s 33us/sample - loss: 0.2229 - accuracy: 0.9027\n",
      "Epoch 74/100\n",
      "750/750 [==============================] - 0s 34us/sample - loss: 0.2221 - accuracy: 0.9027\n",
      "Epoch 75/100\n",
      "750/750 [==============================] - 0s 34us/sample - loss: 0.2216 - accuracy: 0.9013\n",
      "Epoch 76/100\n",
      "750/750 [==============================] - 0s 34us/sample - loss: 0.2209 - accuracy: 0.9013\n",
      "Epoch 77/100\n",
      "750/750 [==============================] - 0s 67us/sample - loss: 0.2203 - accuracy: 0.9013\n",
      "Epoch 78/100\n"
     ]
    },
    {
     "name": "stdout",
     "output_type": "stream",
     "text": [
      "750/750 [==============================] - 0s 48us/sample - loss: 0.2198 - accuracy: 0.9013\n",
      "Epoch 79/100\n",
      "750/750 [==============================] - 0s 36us/sample - loss: 0.2192 - accuracy: 0.9013\n",
      "Epoch 80/100\n",
      "750/750 [==============================] - 0s 34us/sample - loss: 0.2187 - accuracy: 0.9013\n",
      "Epoch 81/100\n",
      "750/750 [==============================] - 0s 33us/sample - loss: 0.2181 - accuracy: 0.9027\n",
      "Epoch 82/100\n",
      "750/750 [==============================] - 0s 35us/sample - loss: 0.2178 - accuracy: 0.9013\n",
      "Epoch 83/100\n",
      "750/750 [==============================] - 0s 34us/sample - loss: 0.2171 - accuracy: 0.9000\n",
      "Epoch 84/100\n",
      "750/750 [==============================] - 0s 36us/sample - loss: 0.2165 - accuracy: 0.9013\n",
      "Epoch 85/100\n",
      "750/750 [==============================] - 0s 33us/sample - loss: 0.2160 - accuracy: 0.9013\n",
      "Epoch 86/100\n",
      "750/750 [==============================] - 0s 33us/sample - loss: 0.2156 - accuracy: 0.9013\n",
      "Epoch 87/100\n",
      "750/750 [==============================] - 0s 32us/sample - loss: 0.2151 - accuracy: 0.9013\n",
      "Epoch 88/100\n",
      "750/750 [==============================] - 0s 34us/sample - loss: 0.2148 - accuracy: 0.9013\n",
      "Epoch 89/100\n",
      "750/750 [==============================] - 0s 32us/sample - loss: 0.2143 - accuracy: 0.9013\n",
      "Epoch 90/100\n",
      "750/750 [==============================] - 0s 32us/sample - loss: 0.2138 - accuracy: 0.9013\n",
      "Epoch 91/100\n",
      "750/750 [==============================] - 0s 31us/sample - loss: 0.2134 - accuracy: 0.9013\n",
      "Epoch 92/100\n",
      "750/750 [==============================] - 0s 33us/sample - loss: 0.2130 - accuracy: 0.9013\n",
      "Epoch 93/100\n",
      "750/750 [==============================] - 0s 32us/sample - loss: 0.2125 - accuracy: 0.9013\n",
      "Epoch 94/100\n",
      "750/750 [==============================] - 0s 35us/sample - loss: 0.2121 - accuracy: 0.9013\n",
      "Epoch 95/100\n",
      "750/750 [==============================] - 0s 34us/sample - loss: 0.2118 - accuracy: 0.9013\n",
      "Epoch 96/100\n",
      "750/750 [==============================] - 0s 35us/sample - loss: 0.2115 - accuracy: 0.9013\n",
      "Epoch 97/100\n",
      "750/750 [==============================] - 0s 35us/sample - loss: 0.2110 - accuracy: 0.9013\n",
      "Epoch 98/100\n",
      "750/750 [==============================] - 0s 36us/sample - loss: 0.2106 - accuracy: 0.9013\n",
      "Epoch 99/100\n",
      "750/750 [==============================] - 0s 39us/sample - loss: 0.2102 - accuracy: 0.9013\n",
      "Epoch 100/100\n",
      "750/750 [==============================] - 0s 36us/sample - loss: 0.2099 - accuracy: 0.9013\n"
     ]
    }
   ],
   "source": [
    "# Compile the Sequential model together and customize metrics\n",
    "new_model.compile(loss=\"binary_crossentropy\", optimizer=\"adam\", metrics=[\"accuracy\"])\n",
    "\n",
    "# Fit the model to the training data\n",
    "new_fit_model = new_model.fit(X_moon_train_scaled, y_moon_train, epochs=100, shuffle=True)"
   ]
  },
  {
   "cell_type": "code",
   "execution_count": null,
   "id": "47c00b67",
   "metadata": {},
   "outputs": [],
   "source": []
  },
  {
   "cell_type": "code",
   "execution_count": null,
   "id": "f0cdc0c8",
   "metadata": {},
   "outputs": [],
   "source": []
  },
  {
   "cell_type": "code",
   "execution_count": null,
   "id": "feb69a38",
   "metadata": {},
   "outputs": [],
   "source": []
  },
  {
   "cell_type": "code",
   "execution_count": null,
   "id": "826cb3d5",
   "metadata": {},
   "outputs": [],
   "source": []
  },
  {
   "cell_type": "code",
   "execution_count": null,
   "id": "b1263791",
   "metadata": {},
   "outputs": [],
   "source": []
  },
  {
   "cell_type": "code",
   "execution_count": null,
   "id": "87755a03",
   "metadata": {},
   "outputs": [],
   "source": []
  }
 ],
 "metadata": {
  "kernelspec": {
   "display_name": "mlenv",
   "language": "python",
   "name": "mlenv"
  },
  "language_info": {
   "codemirror_mode": {
    "name": "ipython",
    "version": 3
   },
   "file_extension": ".py",
   "mimetype": "text/x-python",
   "name": "python",
   "nbconvert_exporter": "python",
   "pygments_lexer": "ipython3",
   "version": "3.7.13"
  }
 },
 "nbformat": 4,
 "nbformat_minor": 5
}
